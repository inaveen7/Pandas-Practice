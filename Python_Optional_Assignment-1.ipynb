{
 "cells": [
  {
   "cell_type": "markdown",
   "metadata": {},
   "source": [
    "# Python Optional Assignment - 1"
   ]
  },
  {
   "cell_type": "markdown",
   "metadata": {},
   "source": [
    "1. Write a function that inputs a number and prints the multiplication table of that number."
   ]
  },
  {
   "cell_type": "code",
   "execution_count": 2,
   "metadata": {},
   "outputs": [],
   "source": [
    "# function to print multiplication table of a given number.\n",
    "def multiplicationTableGenerator(number, table_size):\n",
    "    print(\"\\nBelow is the multiplication table for {}\\n\".format(number))\n",
    "    \n",
    "    for i in range (1,table_size+1):\n",
    "        value = number * i\n",
    "        \n",
    "        # We can use anyone of the below print statement to print the formatted output\n",
    "        \n",
    "        print(\"{} * {} = {}\".format(number,i,value))   # most professional way\n",
    "        \n",
    "        #print(number,\" * \",i,\" = \",value)\n",
    "        #print(str(number) + \" * \" + str(i) + \" = \" + str(value))\n",
    "        \n",
    "#multiplicationTableGenerator(number, table_size)\n"
   ]
  },
  {
   "cell_type": "code",
   "execution_count": 3,
   "metadata": {},
   "outputs": [
    {
     "name": "stdout",
     "output_type": "stream",
     "text": [
      "Enter a number for which you would like to genrate multiplication table : 20\n",
      "Entre the size of the multiplication table : 10\n",
      "\n",
      "Below is the multiplication table for 20\n",
      "\n",
      "20 * 1 = 20\n",
      "20 * 2 = 40\n",
      "20 * 3 = 60\n",
      "20 * 4 = 80\n",
      "20 * 5 = 100\n",
      "20 * 6 = 120\n",
      "20 * 7 = 140\n",
      "20 * 8 = 160\n",
      "20 * 9 = 180\n",
      "20 * 10 = 200\n"
     ]
    }
   ],
   "source": [
    "# main function\n",
    "def main():\n",
    "    # Taking input from the user\n",
    "    number      = int (input(\"Enter a number for which you would like to genrate multiplication table : \"))\n",
    "    table_size  = int(input(\"Entre the size of the multiplication table : \")) \n",
    "    \n",
    "    # function call\n",
    "    multiplicationTableGenerator(number, table_size)\n",
    "    \n",
    "\n",
    "#main call\n",
    "main()"
   ]
  },
  {
   "cell_type": "code",
   "execution_count": null,
   "metadata": {},
   "outputs": [],
   "source": []
  },
  {
   "cell_type": "code",
   "execution_count": null,
   "metadata": {},
   "outputs": [],
   "source": []
  },
  {
   "cell_type": "markdown",
   "metadata": {},
   "source": [
    "2. Write a Program to print twin primes less than 1000. If two cosecutive odd numbers are both prime then they are known as twin primes."
   ]
  },
  {
   "cell_type": "code",
   "execution_count": 25,
   "metadata": {},
   "outputs": [
    {
     "name": "stdout",
     "output_type": "stream",
     "text": [
      "Enter a number : 1000\n",
      "The Twin Primes less than 1000 are : \n",
      "(3 5)\n",
      "(5 7)\n",
      "(11 13)\n",
      "(17 19)\n",
      "(29 31)\n",
      "(41 43)\n",
      "(59 61)\n",
      "(71 73)\n",
      "(101 103)\n",
      "(107 109)\n",
      "(137 139)\n",
      "(149 151)\n",
      "(179 181)\n",
      "(191 193)\n",
      "(197 199)\n",
      "(227 229)\n",
      "(239 241)\n",
      "(269 271)\n",
      "(281 283)\n",
      "(311 313)\n",
      "(347 349)\n",
      "(419 421)\n",
      "(431 433)\n",
      "(461 463)\n",
      "(521 523)\n",
      "(569 571)\n",
      "(599 601)\n",
      "(617 619)\n",
      "(641 643)\n",
      "(659 661)\n",
      "(809 811)\n",
      "(821 823)\n",
      "(827 829)\n",
      "(857 859)\n",
      "(881 883)\n"
     ]
    }
   ],
   "source": [
    " \n",
    "number = int(input(\"Enter a number : \"))   # Taking input from the user\n",
    "\n",
    "print(\"The Twin Primes less than {} are : \".format(number))\n",
    "\n",
    "start_prime=2\n",
    "\n",
    "# method to check the given number is prime or not\n",
    "def isPrime(n):            \n",
    "   for i in range(2, n):\n",
    "      if n % i == 0:\n",
    "         return False\n",
    "   return True\n",
    "\n",
    "# method to generate twin primes\n",
    "def generateTwinPrimes(start, end):     \n",
    "   for i in range(start, end):\n",
    "      j = i + 2\n",
    "      if(isPrime(i) and isPrime(j)):\n",
    "         print(\"({} {})\".format(i, j))\n",
    "\n",
    "generateTwinPrimes(start_prime, number)"
   ]
  },
  {
   "cell_type": "code",
   "execution_count": null,
   "metadata": {},
   "outputs": [],
   "source": []
  },
  {
   "cell_type": "code",
   "execution_count": null,
   "metadata": {},
   "outputs": [],
   "source": []
  },
  {
   "cell_type": "markdown",
   "metadata": {},
   "source": [
    "3. Write a program to find out the prime factors of a number. Example: prime factors of 56 - 2, 2, 2, 7"
   ]
  },
  {
   "cell_type": "code",
   "execution_count": 148,
   "metadata": {},
   "outputs": [
    {
     "name": "stdout",
     "output_type": "stream",
     "text": [
      "enter number : 56\n",
      "prime factors of 56 are : 2 2 2 7\n"
     ]
    }
   ],
   "source": [
    "def primeFactorGenerator(number):\n",
    "    prime_factor_list = []\n",
    "    start_prime = 2\n",
    "    \n",
    "    for i in range (start_prime,number):\n",
    "        \n",
    "        while ( number % i == 0):\n",
    "            \n",
    "            prime_factor_list.append(i)   # adding prime factors in a list\n",
    "            #print(i)\n",
    "            number //= i\n",
    "            \n",
    "    #print(prime_factor_list)\n",
    "    #print(\"Prime Factors of {} are {}\".format(number,prime_factor_list))\n",
    "    \n",
    "    return prime_factor_list   # returning prime factos list to function call \n",
    "\n",
    "\n",
    "def main():\n",
    "    number = int(input(\"enter number : \"))\n",
    "    result = primeFactorGenerator(number)\n",
    "        \n",
    "    print(\"prime factors of {} are :\".format(number),*result)\n",
    "    \n",
    "main()\n",
    "\n"
   ]
  },
  {
   "cell_type": "code",
   "execution_count": null,
   "metadata": {},
   "outputs": [],
   "source": []
  },
  {
   "cell_type": "code",
   "execution_count": null,
   "metadata": {},
   "outputs": [],
   "source": []
  },
  {
   "cell_type": "markdown",
   "metadata": {},
   "source": [
    "4. Write a program to implement these formulae of permutations and combinations.\n",
    "Number of permutations of n objects taken r at a time : p(n,r) = n! / (n-r)!\n",
    "Number of combinations of n objects taken r at a time : c(n,r) = n! / (r!*(n-r)!) = p(n,r) / r!"
   ]
  },
  {
   "cell_type": "code",
   "execution_count": 59,
   "metadata": {},
   "outputs": [],
   "source": [
    "#method for factorial\n",
    "def factorial(n):\n",
    "    fact = 1\n",
    "    for i in range (2,n+1):\n",
    "        fact *= i\n",
    "    #print(fact)    \n",
    "    return int(fact)    \n",
    "#factorial(3)"
   ]
  },
  {
   "cell_type": "code",
   "execution_count": 60,
   "metadata": {},
   "outputs": [],
   "source": [
    "# method to implement p(n,r) = n! / (n-r)!\n",
    "def nPermutations(n,r):\n",
    "    pnr = factorial(n) / factorial (n-r)\n",
    "    \n",
    "    \n",
    "    return int(pnr)"
   ]
  },
  {
   "cell_type": "code",
   "execution_count": 61,
   "metadata": {},
   "outputs": [],
   "source": [
    "# method to implement c(n,r) = n! / (r!*(n-r)!) = p(n,r) / r!\n",
    "\n",
    "def nCombinations(n,r):\n",
    "    cnr = factorial (n) / (factorial(r) * factorial(n-r))\n",
    "    \n",
    "    return int(cnr)"
   ]
  },
  {
   "cell_type": "code",
   "execution_count": 62,
   "metadata": {},
   "outputs": [
    {
     "name": "stdout",
     "output_type": "stream",
     "text": [
      "Enter n: 5\n",
      "Enter r: 2\n",
      "number of permutations for (5,2) is 20 \n",
      "number of combinations for (5,2) is 10 \n"
     ]
    }
   ],
   "source": [
    "def main():\n",
    "    # Taking input from the user\n",
    "    n = int (input(\"Enter n: \"))\n",
    "    r = int(input(\"Enter r: \"))\n",
    "    \n",
    "    # calling Permutation method\n",
    "    npr = nPermutations(n,r)     \n",
    "    print(\"number of permutations for ({0},{1}) is {2} \".format(n,r,npr))\n",
    "    \n",
    "    # calling Combinations method\n",
    "    ncr = nCombinations(n,r)\n",
    "    print(\"number of combinations for ({0},{1}) is {2} \".format(n,r,ncr))\n",
    "    \n",
    "    \n",
    "    \n",
    "main()    "
   ]
  },
  {
   "cell_type": "code",
   "execution_count": null,
   "metadata": {},
   "outputs": [],
   "source": []
  },
  {
   "cell_type": "code",
   "execution_count": null,
   "metadata": {},
   "outputs": [],
   "source": []
  },
  {
   "cell_type": "markdown",
   "metadata": {},
   "source": [
    "5. Write a function that converts decimal number to binary number"
   ]
  },
  {
   "cell_type": "code",
   "execution_count": 63,
   "metadata": {},
   "outputs": [],
   "source": [
    "# function to convert decimal to binary\n",
    "def convertDecimalToBinary(number):\n",
    "    binList = []\n",
    "    while number > 0:\n",
    "        binDigit = number % 2\n",
    "        number //= 2\n",
    "        binList.append(binDigit)\n",
    "    return binList"
   ]
  },
  {
   "cell_type": "code",
   "execution_count": 68,
   "metadata": {},
   "outputs": [
    {
     "name": "stdout",
     "output_type": "stream",
     "text": [
      "Enter a number which you would like to convert to Binary : 100\n",
      "binary format for 100 is :  1 1 0 0 1 0 0\n"
     ]
    }
   ],
   "source": [
    "# main function \n",
    "def main():\n",
    "    \n",
    "    #Taking input from the user\n",
    "    n = int(input(\"Enter a number which you would like to convert to Binary : \"))\n",
    "    \n",
    "    # function call\n",
    "    bin = convertDecimalToBinary(n)  \n",
    "    bin.reverse()\n",
    "    print(\"binary format for {} is : \".format(n),*bin)\n",
    "    \n",
    "main()"
   ]
  },
  {
   "cell_type": "code",
   "execution_count": null,
   "metadata": {},
   "outputs": [],
   "source": []
  },
  {
   "cell_type": "code",
   "execution_count": null,
   "metadata": {},
   "outputs": [],
   "source": []
  },
  {
   "cell_type": "markdown",
   "metadata": {},
   "source": [
    "6. Write a function cubeSum() that accepts an integer and returns the sum of the cubes of individual digits of that number.Use this function to make fuctions printArmstrong() and isArmstrong() to print Armstrong numbers and to find whether is an Armstrong number."
   ]
  },
  {
   "cell_type": "code",
   "execution_count": 73,
   "metadata": {},
   "outputs": [],
   "source": [
    "# function for cube sum\n",
    "def cubeSum (number):\n",
    "    cubesum = 0\n",
    "    while number != 0:\n",
    "        digit = number % 10\n",
    "        #print(digit)\n",
    "        cubesum += (digit**3)\n",
    "        number //= 10\n",
    "    return cubesum    \n",
    "    #print(cubesum)\n",
    "#cubeSum(153)"
   ]
  },
  {
   "cell_type": "code",
   "execution_count": 74,
   "metadata": {},
   "outputs": [],
   "source": [
    "# function to print Armstrong numbers in a given range \n",
    "def printArmstrong(n):\n",
    "    armNumList = []\n",
    "    for i in range (0,n+1):\n",
    "        #cube = cubeSum(i)\n",
    "        if cubeSum(i) == i:\n",
    "            #print(i)\n",
    "            armNumList.append(i)\n",
    "    return armNumList    \n",
    "            \n",
    "#printArmstrong(n)"
   ]
  },
  {
   "cell_type": "code",
   "execution_count": 75,
   "metadata": {},
   "outputs": [],
   "source": [
    "# fucntion to find a give number is an Armstrong number or not \n",
    "def isArmstrong(n):\n",
    "    #cube = cubeSum(n)\n",
    "    if cubeSum(n) == n:\n",
    "        #print(\"{} is an Armstrong number\".format(n))\n",
    "        return (\"{} is an Armstrong number\".format(n))\n",
    "            \n",
    "    else:\n",
    "        #print(\"{} is not an Armstrong number\".format(n))\n",
    "        return (\"{} is not an Armstrong number\".format(n))\n",
    "#isArmstrong(n)            "
   ]
  },
  {
   "cell_type": "code",
   "execution_count": 76,
   "metadata": {},
   "outputs": [
    {
     "name": "stdout",
     "output_type": "stream",
     "text": [
      "Enter a number : 1000\n",
      "\n",
      "the cube sum of the 1000 is : 1\n",
      "The Armstrong numbers below 1000 are : [0, 1, 153, 370, 371, 407]\n",
      "1000 is not an Armstrong number\n"
     ]
    }
   ],
   "source": [
    "# main function\n",
    "def main():\n",
    "    number = int(input(\"Enter a number : \"))\n",
    "    print(\"\\nthe cube sum of the {} is : {}\".format(number,cubeSum(number)))\n",
    "    print(\"The Armstrong numbers below {0} are : {1}\".format(number,printArmstrong(number)))\n",
    "    print(isArmstrong(number))\n",
    "    \n",
    "main()\n",
    "    "
   ]
  },
  {
   "cell_type": "code",
   "execution_count": null,
   "metadata": {},
   "outputs": [],
   "source": []
  },
  {
   "cell_type": "code",
   "execution_count": null,
   "metadata": {},
   "outputs": [],
   "source": []
  },
  {
   "cell_type": "markdown",
   "metadata": {},
   "source": [
    "7. write a function prodDigits() that inputs a number and returns the product of digits of that number"
   ]
  },
  {
   "cell_type": "code",
   "execution_count": 77,
   "metadata": {},
   "outputs": [],
   "source": [
    "def prodDigits(number):\n",
    "    digits_product = 1\n",
    "    while (number != 0):\n",
    "        digit = number % 10\n",
    "        #print(digit)\n",
    "        digits_product *= digit\n",
    "        number //= 10\n",
    "    #print(\"Product of the digits = \" + str(digits_product))    \n",
    "    \n",
    "    return digits_product\n",
    "    \n",
    "    "
   ]
  },
  {
   "cell_type": "code",
   "execution_count": 78,
   "metadata": {},
   "outputs": [
    {
     "name": "stdout",
     "output_type": "stream",
     "text": [
      "Enter a number for which you would like to print product of digits : 123\n",
      "\n",
      "Product of the digits of 123 is : 6 \n"
     ]
    }
   ],
   "source": [
    "def main():\n",
    "    number = int(input(\"Enter a number for which you would like to print product of digits : \"))\n",
    "    result = prodDigits(number) \n",
    "    print(\"\\nProduct of the digits of {} is : {} \".format(number, result))\n",
    "    \n",
    "main()    "
   ]
  },
  {
   "cell_type": "code",
   "execution_count": null,
   "metadata": {},
   "outputs": [],
   "source": []
  },
  {
   "cell_type": "code",
   "execution_count": null,
   "metadata": {},
   "outputs": [],
   "source": []
  },
  {
   "cell_type": "markdown",
   "metadata": {},
   "source": [
    "8. If all digits of a number n are multiplied by each other repeating with the producrt, the one digit number obtained at last is called multiplicative digital root of n. The number of digits need to be multiplied to reach one digit is called multiplicative persistence of n.\n",
    "\n",
    "         Example : 86 --> 48 --> 32 --> 6 (MDR 6, MPersistence 3)\n",
    "              \n",
    "                   341 --> 12 --> 2   (MDR 2, MPersistence 2)\n",
    "         \n",
    "Using the function prodDigits() of pervious excercise write functions MDR() and MPersistence() that inputs a number and return its multiplicative digital root and multiplicative persistence respectively.         \n",
    "         "
   ]
  },
  {
   "cell_type": "code",
   "execution_count": 79,
   "metadata": {},
   "outputs": [],
   "source": [
    "# function to implement MDR\n",
    "def MDR(number):\n",
    "    count = 0\n",
    "    n = number\n",
    "    while len(str(n)) > 1:\n",
    "        n = prodDigits(n)\n",
    "        #print(n)\n",
    "        count +=1\n",
    "    #print(n)\n",
    "    mdr = n\n",
    "    return mdr\n",
    "    #print(\"count : \"+str(mdr))\n",
    "        \n",
    "        "
   ]
  },
  {
   "cell_type": "code",
   "execution_count": 80,
   "metadata": {},
   "outputs": [],
   "source": [
    "# function to implement MPersistence\n",
    "def MPersistence(number):\n",
    "    count = 0\n",
    "    n = number\n",
    "    while len(str(n)) > 1:\n",
    "        n = prodDigits(n)\n",
    "        #print(n)\n",
    "        count +=1\n",
    "   \n",
    "    mpersistence = count\n",
    "    return mpersistence\n",
    "        \n",
    "        \n"
   ]
  },
  {
   "cell_type": "code",
   "execution_count": 83,
   "metadata": {},
   "outputs": [
    {
     "name": "stdout",
     "output_type": "stream",
     "text": [
      "Enter a number : 86\n",
      "(MDR 6, MPersistence 3)\n"
     ]
    }
   ],
   "source": [
    "# main function for MDR() and MPersistence\n",
    "def main ():\n",
    "    # Taking input from the user\n",
    "    number = int (input(\"Enter a number : \"))\n",
    "    print(\"(MDR {}, MPersistence {})\".format(MDR(number),MPersistence(number)))\n",
    "    \n",
    "main()    "
   ]
  },
  {
   "cell_type": "code",
   "execution_count": null,
   "metadata": {},
   "outputs": [],
   "source": []
  },
  {
   "cell_type": "code",
   "execution_count": null,
   "metadata": {},
   "outputs": [],
   "source": []
  },
  {
   "cell_type": "markdown",
   "metadata": {},
   "source": [
    "9. Write a function sumPDivisors that finds the sum of proper divisors of a number. Proper divisors of a number are those numbers by which the number is divisble, except the number itself. For example proper divisors of 36 are 1,2,3,4,6,9,12,18"
   ]
  },
  {
   "cell_type": "code",
   "execution_count": 52,
   "metadata": {},
   "outputs": [],
   "source": [
    "# function to find the sum of proper divisors\n",
    "def sumPDivisors(number):\n",
    "    n = number\n",
    "    sumOfPropDivisors = 0\n",
    "\n",
    "    for i in range (1,n+1):\n",
    "        if (n % i == 0):\n",
    "            #print(i)\n",
    "            sumOfPropDivisors += i \n",
    "            \n",
    "            if(i==n//2):\n",
    "                break\n",
    "    return sumOfPropDivisors             \n",
    "    #print(sumOfPropDivisors)       \n",
    "            \n",
    "#sumPDivisors(20)    "
   ]
  },
  {
   "cell_type": "code",
   "execution_count": 53,
   "metadata": {},
   "outputs": [
    {
     "name": "stdout",
     "output_type": "stream",
     "text": [
      "Enter a  number for which you need sum of proper divisors : 36\n",
      "Sum of proper divisors of 36 is : 55\n"
     ]
    }
   ],
   "source": [
    "def main():\n",
    "    number = int(input(\"Enter a  number for which you need sum of proper divisors : \"))\n",
    "    result = sumPDivisors(number)\n",
    "    \n",
    "    print(\"Sum of proper divisors of {} is : {}\".format(number,result))\n",
    "main()"
   ]
  },
  {
   "cell_type": "code",
   "execution_count": null,
   "metadata": {},
   "outputs": [],
   "source": []
  },
  {
   "cell_type": "code",
   "execution_count": null,
   "metadata": {},
   "outputs": [],
   "source": []
  },
  {
   "cell_type": "markdown",
   "metadata": {},
   "source": [
    "10. A number is called perfect number if the sum of proper divisors of that number is equal to number. For example 28 is perfect number, since 1+2+4+7+14=28. Write a program to print all the perfect numbers in a given range."
   ]
  },
  {
   "cell_type": "code",
   "execution_count": 84,
   "metadata": {},
   "outputs": [],
   "source": [
    "# function to print all the perfect numebers in a given range\n",
    "\n",
    "def perfectNumbers(number):\n",
    "    n = number\n",
    "    perfNumList = []\n",
    "    for i in range(1,n+1):\n",
    "        if sumPDivisors(i) == i:\n",
    "            perfNumList.append(i)\n",
    "    \n",
    "    return perfNumList\n",
    "            \n",
    "#perfectNumbers(1000) "
   ]
  },
  {
   "cell_type": "code",
   "execution_count": 85,
   "metadata": {},
   "outputs": [
    {
     "name": "stdout",
     "output_type": "stream",
     "text": [
      "Enter a number : 1000\n",
      "Perfect number in a range of 1000 are : [1, 6, 28, 496] \n"
     ]
    }
   ],
   "source": [
    "def main ():\n",
    "    number = int(input(\"Enter a number : \"))\n",
    "    result = perfectNumbers(number)\n",
    "    #print(result)\n",
    "    \n",
    "    print(\"Perfect number in a range of {0} are : {1} \".format(number,result))\n",
    "main()    "
   ]
  },
  {
   "cell_type": "code",
   "execution_count": null,
   "metadata": {},
   "outputs": [],
   "source": []
  },
  {
   "cell_type": "code",
   "execution_count": null,
   "metadata": {},
   "outputs": [],
   "source": []
  },
  {
   "cell_type": "markdown",
   "metadata": {},
   "source": [
    "11. Two different numbers are called amicable numbers if the sum of the proper divisors of each is equal to the other number. For example 220 and 284 are amicable numbers.\n",
    "\n",
    "Sum of proper divisors of 220 = 1+2+4+5+10+11+20+22+44+55+110 = 284\n",
    "Sum of proper divisors of 284 = 1+2+4+71+142 = 220\n",
    "\n",
    "Write a program to print pairs of amicable numbers in a range."
   ]
  },
  {
   "cell_type": "code",
   "execution_count": 86,
   "metadata": {},
   "outputs": [],
   "source": [
    "def isAmicableNumber(num1,num2):\n",
    "    if sumPDivisors(num1) == num2 and sumPDivisors(num2)== num1:\n",
    "        return True\n",
    "    else:\n",
    "        return False\n",
    "    \n",
    "#isAmicableNumber(220,284)        \n",
    "    \n",
    "    "
   ]
  },
  {
   "cell_type": "code",
   "execution_count": 87,
   "metadata": {},
   "outputs": [],
   "source": [
    "\n",
    "def amicablePairs(start,end):\n",
    "    amicablePairsList =[]\n",
    "    for i in range(start, end+1):\n",
    "        for j in range(start+i, end+1):\n",
    "            if isAmicableNumber(i,j):\n",
    "                amicablePairsList.append((i,j))\n",
    "    \n",
    "    return amicablePairsList \n"
   ]
  },
  {
   "cell_type": "code",
   "execution_count": 91,
   "metadata": {},
   "outputs": [
    {
     "name": "stdout",
     "output_type": "stream",
     "text": [
      "Enter a start number : 1\n",
      "Enter a end number : 1000\n",
      "Amicable number pairs in a range of 1 and 1000 are : [(7, 8), (31, 32), (127, 128), (220, 284)] \n"
     ]
    }
   ],
   "source": [
    "def main():\n",
    "    start_num = int(input(\"Enter a start number : \"))\n",
    "    end_num   = int(input(\"Enter a end number : \"))\n",
    "    result = amicablePairs(start_num,end_num)\n",
    "    print(\"Amicable number pairs in a range of {0} and {1} are : {2} \".format(start_num, end_num, result))\n",
    "          \n",
    "main()    "
   ]
  },
  {
   "cell_type": "code",
   "execution_count": null,
   "metadata": {},
   "outputs": [],
   "source": []
  },
  {
   "cell_type": "code",
   "execution_count": null,
   "metadata": {},
   "outputs": [],
   "source": []
  },
  {
   "cell_type": "markdown",
   "metadata": {},
   "source": [
    "12. Write a program  which can filter odd numbers in list by using filter function"
   ]
  },
  {
   "cell_type": "code",
   "execution_count": 92,
   "metadata": {},
   "outputs": [],
   "source": [
    "# function to print odd numbers in a list\n",
    "\n",
    "def isOdd(number):\n",
    "    if number % 2 != 0:\n",
    "        return True\n",
    "    \n",
    "    else:\n",
    "        return False\n",
    "    \n",
    "#oddNumList = filter (isOdd,list(range(10)))        \n"
   ]
  },
  {
   "cell_type": "code",
   "execution_count": 94,
   "metadata": {},
   "outputs": [
    {
     "name": "stdout",
     "output_type": "stream",
     "text": [
      "Enter a number : 10\n",
      "Odd numbers in a list are  :  1 3 5 7 9\n"
     ]
    }
   ],
   "source": [
    "# main function\n",
    "def main():\n",
    "    # taking input from the user\n",
    "    number = int (input(\"Enter a number : \"))\n",
    "    \n",
    "    # using filter() function to filter odd numbers\n",
    "    oddNumList = filter(isOdd,list(range(number+1)))\n",
    "    \n",
    "    print(\"Odd numbers in a list are  : \",*oddNumList)\n",
    "    \n",
    "main()    \n",
    "    "
   ]
  },
  {
   "cell_type": "code",
   "execution_count": null,
   "metadata": {},
   "outputs": [],
   "source": []
  },
  {
   "cell_type": "code",
   "execution_count": null,
   "metadata": {},
   "outputs": [],
   "source": []
  },
  {
   "cell_type": "markdown",
   "metadata": {},
   "source": [
    "13. Write a program which can map() to make a list whose elements are cube of elements in a given list "
   ]
  },
  {
   "cell_type": "code",
   "execution_count": 95,
   "metadata": {},
   "outputs": [],
   "source": [
    "# function to return cube of elements of a list\n",
    "def cubes(x):\n",
    "    return x*x*x"
   ]
  },
  {
   "cell_type": "code",
   "execution_count": 98,
   "metadata": {},
   "outputs": [
    {
     "name": "stdout",
     "output_type": "stream",
     "text": [
      "Enter a number : 5\n",
      "Original list is :  [1, 2, 3, 4, 5]\n",
      "Cube list is :  [1, 8, 27, 64, 125]\n"
     ]
    }
   ],
   "source": [
    "# main function\n",
    "def main():\n",
    "    numList = []\n",
    "    # Taking input from user\n",
    "    number = int(input(\"Enter a number : \"))\n",
    "    \n",
    "    for i in range(1,number+1):\n",
    "        numList.append(i)\n",
    "        \n",
    "    print(\"Original list is : \",numList)    \n",
    "    \n",
    "    # using map() function to make cube of elements of a list\n",
    "    listCubes = map(cubes,numList) \n",
    "    print(\"Cube list is : \",list(listCubes))\n",
    "    \n",
    "main()    \n",
    "    "
   ]
  },
  {
   "cell_type": "code",
   "execution_count": null,
   "metadata": {},
   "outputs": [],
   "source": []
  },
  {
   "cell_type": "code",
   "execution_count": null,
   "metadata": {},
   "outputs": [],
   "source": []
  },
  {
   "cell_type": "markdown",
   "metadata": {},
   "source": [
    "14. Write a program which can map() and filter() to make a list whose elements are cube of even numbers in a given list"
   ]
  },
  {
   "cell_type": "code",
   "execution_count": 100,
   "metadata": {},
   "outputs": [],
   "source": [
    "# function to determine whether a number is Even or not\n",
    "def isEven(n):\n",
    "    if n % 2 == 0:\n",
    "        return True\n",
    "    else:\n",
    "        return False"
   ]
  },
  {
   "cell_type": "code",
   "execution_count": 102,
   "metadata": {},
   "outputs": [
    {
     "name": "stdout",
     "output_type": "stream",
     "text": [
      "Enter a number : 5\n",
      "Even numbers list :  [0, 2, 4]\n",
      "Even cubes list [0, 8, 64]\n"
     ]
    }
   ],
   "source": [
    "def main():\n",
    "    number = int(input(\"Enter a number : \"))\n",
    "    \n",
    "    evenList = []\n",
    "    \n",
    "    for i in range (0,number+1):\n",
    "        #print(i)\n",
    "        evenList.append(i)\n",
    "        \n",
    "    # here,we are using isEven function with filter() function \n",
    "    # to filter all the Even numbers in a list. \n",
    "    evenList = list(filter(isEven,evenList))\n",
    "    print(\"Even numbers list : \",evenList)\n",
    "    \n",
    "    # here, we are using cubes function which writern earlier \n",
    "    # to produce the cube of even numbers list.\n",
    "    evenCubesList = list(map(cubes,evenList))\n",
    "    print(\"Even cubes list\",evenCubesList)\n",
    "    \n",
    "main()       "
   ]
  }
 ],
 "metadata": {
  "kernelspec": {
   "display_name": "Python 3",
   "language": "python",
   "name": "python3"
  },
  "language_info": {
   "codemirror_mode": {
    "name": "ipython",
    "version": 3
   },
   "file_extension": ".py",
   "mimetype": "text/x-python",
   "name": "python",
   "nbconvert_exporter": "python",
   "pygments_lexer": "ipython3",
   "version": "3.6.13"
  }
 },
 "nbformat": 4,
 "nbformat_minor": 4
}
